{
  "nbformat": 4,
  "nbformat_minor": 0,
  "metadata": {
    "colab": {
      "provenance": [],
      "authorship_tag": "ABX9TyOgnrQkBwNsl5SH03LxuX9u",
      "include_colab_link": true
    },
    "kernelspec": {
      "name": "python3",
      "display_name": "Python 3"
    },
    "language_info": {
      "name": "python"
    }
  },
  "cells": [
    {
      "cell_type": "markdown",
      "metadata": {
        "id": "view-in-github",
        "colab_type": "text"
      },
      "source": [
        "<a href=\"https://colab.research.google.com/github/danielopezr/pruebas-2/blob/main/Untitled0.ipynb\" target=\"_parent\"><img src=\"https://colab.research.google.com/assets/colab-badge.svg\" alt=\"Open In Colab\"/></a>"
      ]
    },
    {
      "cell_type": "code",
      "execution_count": null,
      "metadata": {
        "colab": {
          "base_uri": "https://localhost:8080/"
        },
        "id": "1YgIqG7VZsph",
        "outputId": "4350c7a0-be8c-4e65-f44d-4fbfdcabe21e"
      },
      "outputs": [
        {
          "output_type": "stream",
          "name": "stdout",
          "text": [
            "El inverso modular de 3 módulo 26 es: 9\n"
          ]
        }
      ],
      "source": [
        "def euclideanAlgorithm(a, b):\n",
        "    if b == 0:\n",
        "        return (a, 1, 0)\n",
        "    else:\n",
        "        d, x, y = euclideanAlgorithm(b, a % b)\n",
        "        return (d, y, x - (a // b) * y)\n",
        "jsadjsdjksadjksadsadjadssadsas"
      ]
    },
    {
      "cell_type": "code",
      "source": [
        "print(reversed(range(2)))"
      ],
      "metadata": {
        "colab": {
          "base_uri": "https://localhost:8080/"
        },
        "id": "B1DcFbJm_FF5",
        "outputId": "b52ef663-ff3a-4406-c469-62b7d49238a0"
      },
      "execution_count": null,
      "outputs": [
        {
          "output_type": "stream",
          "name": "stdout",
          "text": [
            "<range_iterator object at 0x7b29faa9adc0>\n"
          ]
        }
      ]
    }
  ]
}